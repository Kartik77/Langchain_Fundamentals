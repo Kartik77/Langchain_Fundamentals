{
 "cells": [
  {
   "cell_type": "markdown",
   "metadata": {},
   "source": [
    "# Langchain Fundamentals"
   ]
  },
  {
   "cell_type": "code",
   "execution_count": 3,
   "metadata": {},
   "outputs": [],
   "source": [
    "import os\n",
    "os.environ['OPENAI_API_KEY'] = 'add-your-OpenAI-key-here'"
   ]
  },
  {
   "cell_type": "markdown",
   "metadata": {},
   "source": [
    "## LLMs"
   ]
  },
  {
   "cell_type": "code",
   "execution_count": 4,
   "metadata": {},
   "outputs": [
    {
     "name": "stderr",
     "output_type": "stream",
     "text": [
      "<ipython-input-4-27f9d123d7a4>:4: LangChainDeprecationWarning: The method `BaseLLM.predict` was deprecated in langchain-core 0.1.7 and will be removed in 1.0. Use invoke instead.\n",
      "  name = llm.predict(\"I want to open a grocery chain in Canada. Suggest a fancy name for this.\")\n"
     ]
    },
    {
     "name": "stdout",
     "output_type": "stream",
     "text": [
      "\n",
      "\"Harvest Haven\"\n"
     ]
    }
   ],
   "source": [
    "from langchain.llms import OpenAI\n",
    "\n",
    "llm = OpenAI(temperature=0.9)\n",
    "name = llm.predict(\"I want to open a grocery chain in Canada. Suggest a fancy name for this.\")\n",
    "print(name)"
   ]
  },
  {
   "cell_type": "markdown",
   "metadata": {},
   "source": [
    "## Prompt Templates"
   ]
  },
  {
   "cell_type": "code",
   "execution_count": 6,
   "metadata": {},
   "outputs": [
    {
     "name": "stdout",
     "output_type": "stream",
     "text": [
      "I want to open a grocery chain in India. Suggest a fancy name for this.\n"
     ]
    }
   ],
   "source": [
    "from langchain.prompts import PromptTemplate\n",
    "\n",
    "prompt_template_country = PromptTemplate(\n",
    "    input_variables =['country'],\n",
    "    template = \"I want to open a grocery chain in {country}. Suggest a fancy name for this.\"\n",
    ")\n",
    "p = prompt_template_country.format(country=\"India\")\n",
    "print(p)\n"
   ]
  },
  {
   "cell_type": "markdown",
   "metadata": {},
   "source": [
    "## Chains"
   ]
  },
  {
   "cell_type": "code",
   "execution_count": 7,
   "metadata": {},
   "outputs": [
    {
     "name": "stderr",
     "output_type": "stream",
     "text": [
      "<ipython-input-7-cb5ebac313f8>:3: LangChainDeprecationWarning: The class `LLMChain` was deprecated in LangChain 0.1.17 and will be removed in 1.0. Use RunnableSequence, e.g., `prompt | llm` instead.\n",
      "  chain = LLMChain(llm=llm, prompt=prompt_template_country)\n",
      "<ipython-input-7-cb5ebac313f8>:4: LangChainDeprecationWarning: The method `Chain.run` was deprecated in langchain 0.1.0 and will be removed in 1.0. Use invoke instead.\n",
      "  chain.run(\"India\")\n"
     ]
    },
    {
     "data": {
      "text/plain": [
       "'\\n\\n\"Spice Emporium\"'"
      ]
     },
     "execution_count": 7,
     "metadata": {},
     "output_type": "execute_result"
    }
   ],
   "source": [
    "from langchain.chains import LLMChain\n",
    "\n",
    "chain = LLMChain(llm=llm, prompt=prompt_template_country)\n",
    "chain.run(\"India\")"
   ]
  },
  {
   "cell_type": "code",
   "execution_count": 24,
   "metadata": {},
   "outputs": [
    {
     "name": "stdout",
     "output_type": "stream",
     "text": [
      "\n",
      "\n",
      "\u001b[1m> Entering new LLMChain chain...\u001b[0m\n",
      "Prompt after formatting:\n",
      "\u001b[32;1m\u001b[1;3mI want to open a grocery chain in Canada. Suggest a fancy name for this.\u001b[0m\n",
      "\n",
      "\u001b[1m> Finished chain.\u001b[0m\n"
     ]
    },
    {
     "data": {
      "text/plain": [
       "'\\n\\n\"Maple Market Co.\"'"
      ]
     },
     "execution_count": 24,
     "metadata": {},
     "output_type": "execute_result"
    }
   ],
   "source": [
    "chain = LLMChain(llm=llm, prompt=prompt_template_country, verbose=True)\n",
    "chain.run(\"Canada\")"
   ]
  },
  {
   "cell_type": "code",
   "execution_count": 25,
   "metadata": {},
   "outputs": [],
   "source": [
    "llm = OpenAI(temperature=0.6)\n",
    "\n",
    "prompt_template_country = PromptTemplate(\n",
    "    input_variables =['country'],\n",
    "    template = \"I want to open a grocery chain in {country}. Suggest a fancy name for this.\"\n",
    ")\n",
    "\n",
    "country_chain =LLMChain(llm=llm, prompt=prompt_template_country)\n",
    "\n",
    "prompt_template_locations = PromptTemplate(\n",
    "    input_variables = ['country'],\n",
    "    template=\"\"\"Suggest some prime locations in {country} where opening a grocery store could be highly profitable.\"\"\"\n",
    ")\n",
    "\n",
    "locations_chain = LLMChain(llm=llm, prompt=prompt_template_locations)"
   ]
  },
  {
   "cell_type": "markdown",
   "metadata": {},
   "source": [
    "## Simple Sequential Chain"
   ]
  },
  {
   "cell_type": "code",
   "execution_count": 26,
   "metadata": {},
   "outputs": [
    {
     "name": "stdout",
     "output_type": "stream",
     "text": [
      " \n",
      "\n",
      "1. Downtown area: The downtown area of Maple Market Co. is usually the busiest and most populated part of the city, making it a prime location for a grocery store. This area typically has a high footfall and a diverse population, providing a steady flow of customers for the store.\n",
      "\n",
      "2. Residential neighborhoods: Setting up a grocery store in a residential neighborhood is also a smart choice as it caters to the daily needs of the local residents. This location can also be beneficial for building a loyal customer base and creating a sense of community within the neighborhood.\n",
      "\n",
      "3. Near schools and colleges: Placing a grocery store near schools and colleges can be a profitable venture as students often need quick and convenient options for their grocery shopping. It can also attract faculty and staff members of these institutions, providing a steady flow of customers.\n",
      "\n",
      "4. Commercial areas: Areas with a high concentration of offices and businesses can be a great location for a grocery store. Many employees prefer to do their grocery shopping during their lunch break or after work, making it a convenient option for them.\n",
      "\n",
      "5. Tourist areas: If Maple Market Co. has popular tourist attractions, setting up a grocery store in a nearby location can be highly profitable. Tourists often need to buy groceries during their stay, and\n"
     ]
    }
   ],
   "source": [
    "from langchain.chains import SimpleSequentialChain\n",
    "chain = SimpleSequentialChain(chains = [country_chain, locations_chain])\n",
    "\n",
    "content = chain.run(\"Canada\")\n",
    "print(content)"
   ]
  },
  {
   "cell_type": "markdown",
   "metadata": {},
   "source": [
    "## Sequential Chain"
   ]
  },
  {
   "cell_type": "code",
   "execution_count": 8,
   "metadata": {},
   "outputs": [],
   "source": [
    "llm = OpenAI(temperature=0.7)\n",
    "\n",
    "prompt_template_country = PromptTemplate(\n",
    "    input_variables =['country'],\n",
    "    template = \"I want to open a grocery chain in {country}. Suggest a fancy name for this.\"\n",
    ")\n",
    "\n",
    "country_chain =LLMChain(llm=llm, prompt=prompt_template_country, output_key=\"store_name\")"
   ]
  },
  {
   "cell_type": "code",
   "execution_count": 10,
   "metadata": {},
   "outputs": [],
   "source": [
    "llm = OpenAI(temperature=0.7)\n",
    "\n",
    "prompt_template_locations = PromptTemplate(\n",
    "    input_variables = ['country'],\n",
    "    template=\"\"\"Suggest some prime locations in {country} where opening a grocery store could be highly profitable.\"\"\"\n",
    ")\n",
    "\n",
    "locations_chain =LLMChain(llm=llm, prompt=prompt_template_locations, output_key=\"locations\")"
   ]
  },
  {
   "cell_type": "code",
   "execution_count": 11,
   "metadata": {},
   "outputs": [],
   "source": [
    "from langchain.chains import SequentialChain\n",
    "\n",
    "chain = SequentialChain(\n",
    "    chains = [country_chain, locations_chain],\n",
    "    input_variables = ['country'],\n",
    "    output_variables = ['store_name', \"locations\"]\n",
    ")"
   ]
  },
  {
   "cell_type": "code",
   "execution_count": 13,
   "metadata": {},
   "outputs": [
    {
     "data": {
      "text/plain": [
       "{'country': 'Canada',\n",
       " 'store_name': '\\n\\n\"Maple Market\" ',\n",
       " 'locations': '\\n\\n1. Toronto, Ontario\\n2. Vancouver, British Columbia\\n3. Montreal, Quebec\\n4. Calgary, Alberta\\n5. Ottawa, Ontario\\n6. Edmonton, Alberta\\n7. Mississauga, Ontario\\n8. Winnipeg, Manitoba\\n9. Quebec City, Quebec\\n10. Halifax, Nova Scotia'}"
      ]
     },
     "execution_count": 13,
     "metadata": {},
     "output_type": "execute_result"
    }
   ],
   "source": [
    "chain({\"country\": \"Canada\"})"
   ]
  },
  {
   "cell_type": "markdown",
   "metadata": {},
   "source": [
    "## Agents"
   ]
  },
  {
   "cell_type": "code",
   "execution_count": 14,
   "metadata": {},
   "outputs": [],
   "source": [
    "os.environ['SERPAPI_API_KEY'] = 'add-your-serpapi-key-here'"
   ]
  },
  {
   "cell_type": "markdown",
   "metadata": {},
   "source": [
    "SerpApi and LLM Math Tool"
   ]
  },
  {
   "cell_type": "code",
   "execution_count": 22,
   "metadata": {},
   "outputs": [
    {
     "name": "stdout",
     "output_type": "stream",
     "text": [
      "\n",
      "\n",
      "\u001b[1m> Entering new AgentExecutor chain...\u001b[0m\n",
      "\u001b[32;1m\u001b[1;3m I should use a search engine to find the population of Canada in 2020.\n",
      "Action: Search\n",
      "Action Input: \"Population of Canada in 2020\"\u001b[0m\n",
      "Observation: \u001b[36;1m\u001b[1;3m{'type': 'population_result', 'place': 'Canada', 'population': '38.01 million', 'year': '2020'}\u001b[0m\n",
      "Thought:\u001b[32;1m\u001b[1;3m I should use a calculator to add 1 million to the population.\n",
      "Action: Calculator\n",
      "Action Input: 38.01 million + 1 million\u001b[0m\n",
      "Observation: \u001b[33;1m\u001b[1;3mAnswer: 39010000.0\u001b[0m\n",
      "Thought:\u001b[32;1m\u001b[1;3m I now know the final answer.\n",
      "Final Answer: The population of Canada in 2020 was 38.01 million and adding 1 million gives a total of 39.01 million.\u001b[0m\n",
      "\n",
      "\u001b[1m> Finished chain.\u001b[0m\n"
     ]
    },
    {
     "data": {
      "text/plain": [
       "'The population of Canada in 2020 was 38.01 million and adding 1 million gives a total of 39.01 million.'"
      ]
     },
     "execution_count": 22,
     "metadata": {},
     "output_type": "execute_result"
    }
   ],
   "source": [
    "from langchain.agents import AgentType, initialize_agent, load_tools\n",
    "from langchain.llms import OpenAI\n",
    "\n",
    "llm = OpenAI(temperature=0)\n",
    "\n",
    "# The tools we'll give the Agent access to. \n",
    "tools = load_tools([\"serpapi\", \"llm-math\"], llm=llm)\n",
    "\n",
    "agent = initialize_agent(tools, llm, agent=AgentType.ZERO_SHOT_REACT_DESCRIPTION, verbose=True)\n",
    "\n",
    "agent.run(\"What was the Population of Canada in the year 2020 and add 1 Million to the number?\")"
   ]
  },
  {
   "cell_type": "markdown",
   "metadata": {},
   "source": [
    "## Memory"
   ]
  },
  {
   "cell_type": "code",
   "execution_count": 24,
   "metadata": {},
   "outputs": [
    {
     "name": "stdout",
     "output_type": "stream",
     "text": [
      "The following is a friendly conversation between a human and an AI. The AI is talkative and provides lots of specific details from its context. If the AI does not know the answer to a question, it truthfully says it does not know.\n",
      "\n",
      "Current conversation:\n",
      "{history}\n",
      "Human: {input}\n",
      "AI:\n"
     ]
    },
    {
     "name": "stderr",
     "output_type": "stream",
     "text": [
      "<ipython-input-24-ffeb4aaf188e>:3: LangChainDeprecationWarning: The class `ConversationChain` was deprecated in LangChain 0.2.7 and will be removed in 1.0. Use RunnableWithMessageHistory: https://python.langchain.com/v0.2/api_reference/core/runnables/langchain_core.runnables.history.RunnableWithMessageHistory.html instead.\n",
      "  convo = ConversationChain(llm=OpenAI(temperature=0.7))\n"
     ]
    }
   ],
   "source": [
    "from langchain.chains import ConversationChain\n",
    "\n",
    "convo = ConversationChain(llm=OpenAI(temperature=0.7))\n",
    "print(convo.prompt.template)"
   ]
  },
  {
   "cell_type": "code",
   "execution_count": 30,
   "metadata": {},
   "outputs": [
    {
     "data": {
      "text/plain": [
       "' The most recent T20 Cricket World Cup was won by the West Indies in 2016. They defeated England in the final match by four wickets. The tournament was held in India and it was the sixth edition of the T20 World Cup. The West Indies team was led by Darren Sammy and they had an incredible performance throughout the tournament. Before this, India won the T20 World Cup in 2014 and Sri Lanka won in 2012.'"
      ]
     },
     "execution_count": 30,
     "metadata": {},
     "output_type": "execute_result"
    }
   ],
   "source": [
    "from langchain.memory import ConversationBufferWindowMemory\n",
    "\n",
    "memory = ConversationBufferWindowMemory(k=1)\n",
    "\n",
    "convo = ConversationChain(\n",
    "    llm=OpenAI(temperature=0.7),\n",
    "    memory=memory\n",
    ")\n",
    "convo.run(\"Who won the latest t20 Cricket T20 world cup?\")"
   ]
  },
  {
   "cell_type": "code",
   "execution_count": 31,
   "metadata": {},
   "outputs": [
    {
     "data": {
      "text/plain": [
       "'  25+2 is equal to 27.'"
      ]
     },
     "execution_count": 31,
     "metadata": {},
     "output_type": "execute_result"
    }
   ],
   "source": [
    "convo.run(\"How much is 25+2?\")"
   ]
  },
  {
   "cell_type": "code",
   "execution_count": 32,
   "metadata": {},
   "outputs": [
    {
     "data": {
      "text/plain": [
       "' I do not have enough information to answer that question. Can you provide me with the name of the team or the location of the event?'"
      ]
     },
     "execution_count": 32,
     "metadata": {},
     "output_type": "execute_result"
    }
   ],
   "source": [
    "convo.run(\"Who was the captain of the winning team?\")"
   ]
  }
 ],
 "metadata": {
  "kernelspec": {
   "display_name": "base",
   "language": "python",
   "name": "python3"
  },
  "language_info": {
   "codemirror_mode": {
    "name": "ipython",
    "version": 3
   },
   "file_extension": ".py",
   "mimetype": "text/x-python",
   "name": "python",
   "nbconvert_exporter": "python",
   "pygments_lexer": "ipython3",
   "version": "3.8.8"
  }
 },
 "nbformat": 4,
 "nbformat_minor": 2
}
